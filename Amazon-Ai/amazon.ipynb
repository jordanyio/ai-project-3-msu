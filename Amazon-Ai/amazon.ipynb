{
 "cells": [
  {
   "cell_type": "code",
   "execution_count": 3,
   "id": "5167cb97-d997-4356-b1a7-7af55561e05f",
   "metadata": {},
   "outputs": [],
   "source": [
    "#!pip install datasets\n"
   ]
  },
  {
   "cell_type": "code",
   "execution_count": 1,
   "id": "4cc8dbe8-530f-4a9d-8974-9a82990108c7",
   "metadata": {},
   "outputs": [
    {
     "name": "stderr",
     "output_type": "stream",
     "text": [
      "2024-04-22 14:24:57.701924: I tensorflow/core/util/port.cc:113] oneDNN custom operations are on. You may see slightly different numerical results due to floating-point round-off errors from different computation orders. To turn them off, set the environment variable `TF_ENABLE_ONEDNN_OPTS=0`.\n",
      "2024-04-22 14:24:57.906457: I tensorflow/core/platform/cpu_feature_guard.cc:210] This TensorFlow binary is optimized to use available CPU instructions in performance-critical operations.\n",
      "To enable the following instructions: AVX2 AVX_VNNI FMA, in other operations, rebuild TensorFlow with the appropriate compiler flags.\n",
      "2024-04-22 14:24:58.766639: W tensorflow/compiler/tf2tensorrt/utils/py_utils.cc:38] TF-TRT Warning: Could not find TensorRT\n"
     ]
    }
   ],
   "source": [
    "import random\n",
    "import pandas as pd\n",
    "from datasets import load_dataset\n",
    "import tensorflow as tf\n",
    "from sklearn.model_selection import train_test_split\n",
    "from sklearn.preprocessing import OneHotEncoder, MinMaxScaler\n",
    "import pandas as pd\n",
    "import numpy as np"
   ]
  },
  {
   "cell_type": "code",
   "execution_count": 2,
   "id": "ac3f79bb-3058-4e55-b626-452c821bae89",
   "metadata": {},
   "outputs": [],
   "source": [
    "# Load the Amazon products dataset\n",
    "df_amazon = load_dataset('ckandemir/amazon-products', split='train')\n",
    "\n",
    "# Convert the training dataset to a pandas DataFrame\n",
    "amazon_df = df_amazon.to_pandas()"
   ]
  },
  {
   "cell_type": "code",
   "execution_count": 3,
   "id": "2ffae9cf-f74d-4f69-9a39-277715024e0e",
   "metadata": {},
   "outputs": [
    {
     "data": {
      "text/html": [
       "<div>\n",
       "<style scoped>\n",
       "    .dataframe tbody tr th:only-of-type {\n",
       "        vertical-align: middle;\n",
       "    }\n",
       "\n",
       "    .dataframe tbody tr th {\n",
       "        vertical-align: top;\n",
       "    }\n",
       "\n",
       "    .dataframe thead th {\n",
       "        text-align: right;\n",
       "    }\n",
       "</style>\n",
       "<table border=\"1\" class=\"dataframe\">\n",
       "  <thead>\n",
       "    <tr style=\"text-align: right;\">\n",
       "      <th></th>\n",
       "      <th>Product Name</th>\n",
       "      <th>Category</th>\n",
       "      <th>Description</th>\n",
       "      <th>Selling Price</th>\n",
       "      <th>Product Specification</th>\n",
       "      <th>Image</th>\n",
       "    </tr>\n",
       "  </thead>\n",
       "  <tbody>\n",
       "    <tr>\n",
       "      <th>0</th>\n",
       "      <td>Craft-tastic – Empower Poster – Craft Kit – De...</td>\n",
       "      <td>Toys &amp; Games | Arts &amp; Crafts | Craft Kits | Pa...</td>\n",
       "      <td>PERFECT GIFT FOR AGES 8 AND ABOVE: Make this f...</td>\n",
       "      <td>$14.47</td>\n",
       "      <td>ProductDimensions:3x10x15inches|ItemWeight:15....</td>\n",
       "      <td>https://images-na.ssl-images-amazon.com/images...</td>\n",
       "    </tr>\n",
       "    <tr>\n",
       "      <th>1</th>\n",
       "      <td>Melissa &amp; Doug Dot-to-Dot# &amp; Letter Coloring P...</td>\n",
       "      <td>Toys &amp; Games | Games &amp; Accessories | Board Games</td>\n",
       "      <td>3 jumbo connect-the-dots coloring pads ABC far...</td>\n",
       "      <td>$12.74</td>\n",
       "      <td>ProductDimensions:11x0.8x14inches|ItemWeight:3...</td>\n",
       "      <td>https://images-na.ssl-images-amazon.com/images...</td>\n",
       "    </tr>\n",
       "    <tr>\n",
       "      <th>2</th>\n",
       "      <td>RPM Rear Shock Tower for The Nitro Slash, Nitr...</td>\n",
       "      <td>Toys &amp; Games | Hobbies | Remote &amp; App Controll...</td>\n",
       "      <td>Great Condition.</td>\n",
       "      <td>$9.06</td>\n",
       "      <td>ProductDimensions:5.9x4x0.4inches|ItemWeight:0...</td>\n",
       "      <td>https://images-na.ssl-images-amazon.com/images...</td>\n",
       "    </tr>\n",
       "    <tr>\n",
       "      <th>3</th>\n",
       "      <td>Disney Pixar Cars Mini Racers Crank &amp; Crash De...</td>\n",
       "      <td>Toys &amp; Games | Play Vehicles | Toy Vehicles</td>\n",
       "      <td>Disney/Pixar Cars 3 new Crazy 8 track.</td>\n",
       "      <td>$27.85</td>\n",
       "      <td>ProductDimensions:2.9x14x10inches|ItemWeight:1...</td>\n",
       "      <td>https://images-na.ssl-images-amazon.com/images...</td>\n",
       "    </tr>\n",
       "    <tr>\n",
       "      <th>4</th>\n",
       "      <td>Areaware Cubebot Small</td>\n",
       "      <td>Toys &amp; Games | Puzzles | Brain Teasers | Assem...</td>\n",
       "      <td>Great Condition.</td>\n",
       "      <td>$28.92</td>\n",
       "      <td>None</td>\n",
       "      <td>https://images-na.ssl-images-amazon.com/images...</td>\n",
       "    </tr>\n",
       "    <tr>\n",
       "      <th>...</th>\n",
       "      <td>...</td>\n",
       "      <td>...</td>\n",
       "      <td>...</td>\n",
       "      <td>...</td>\n",
       "      <td>...</td>\n",
       "      <td>...</td>\n",
       "    </tr>\n",
       "    <tr>\n",
       "      <th>23988</th>\n",
       "      <td>Fox In The Forest Duet</td>\n",
       "      <td>Toys &amp; Games | Games &amp; Accessories | Board Games</td>\n",
       "      <td>Beautifully illustrated cards.</td>\n",
       "      <td>$15.00</td>\n",
       "      <td>ProductDimensions:6.5x4.5x1.2inches|ItemWeight...</td>\n",
       "      <td>https://images-na.ssl-images-amazon.com/images...</td>\n",
       "    </tr>\n",
       "    <tr>\n",
       "      <th>23989</th>\n",
       "      <td>Hasbro Gaming Hot Tub High Dive Game With Bubb...</td>\n",
       "      <td>Toys &amp; Games | Games &amp; Accessories | Board Games</td>\n",
       "      <td>The Hot Tub High Dive board game includes a de...</td>\n",
       "      <td>$7.49</td>\n",
       "      <td>ProductDimensions:3.2x10.5x10.5inches|ItemWeig...</td>\n",
       "      <td>https://images-na.ssl-images-amazon.com/images...</td>\n",
       "    </tr>\n",
       "    <tr>\n",
       "      <th>23990</th>\n",
       "      <td>Shimmer &amp; Shine Toddler Helmet</td>\n",
       "      <td>Sports &amp; Outdoors | Outdoor Recreation | Cycli...</td>\n",
       "      <td>Glittery pink shimmer and shine design is sure...</td>\n",
       "      <td>$19.93</td>\n",
       "      <td>Shipping Weight: 8.8 ounces (View shipping rat...</td>\n",
       "      <td>https://images-na.ssl-images-amazon.com/images...</td>\n",
       "    </tr>\n",
       "    <tr>\n",
       "      <th>23991</th>\n",
       "      <td>MasterPieces NCAA North Carolina Tar Heels, Co...</td>\n",
       "      <td>Toys &amp; Games | Puzzles | Jigsaw Puzzles</td>\n",
       "      <td>Includes 28 resin dominoes with printed team l...</td>\n",
       "      <td>$19.99</td>\n",
       "      <td>Product Dimensions:         2 x 4.5 x 7.5 inch...</td>\n",
       "      <td>https://images-na.ssl-images-amazon.com/images...</td>\n",
       "    </tr>\n",
       "    <tr>\n",
       "      <th>23992</th>\n",
       "      <td>Edupress Cause &amp; Effect Game, Red Level (EP606...</td>\n",
       "      <td>Toys &amp; Games | Games &amp; Accessories | Board Games</td>\n",
       "      <td>Great Condition.</td>\n",
       "      <td>$17.79</td>\n",
       "      <td>ASIN:B0007KK12A|ShippingWeight:1.2pounds(Views...</td>\n",
       "      <td>https://images-na.ssl-images-amazon.com/images...</td>\n",
       "    </tr>\n",
       "  </tbody>\n",
       "</table>\n",
       "<p>23993 rows × 6 columns</p>\n",
       "</div>"
      ],
      "text/plain": [
       "                                            Product Name  \\\n",
       "0      Craft-tastic – Empower Poster – Craft Kit – De...   \n",
       "1      Melissa & Doug Dot-to-Dot# & Letter Coloring P...   \n",
       "2      RPM Rear Shock Tower for The Nitro Slash, Nitr...   \n",
       "3      Disney Pixar Cars Mini Racers Crank & Crash De...   \n",
       "4                                 Areaware Cubebot Small   \n",
       "...                                                  ...   \n",
       "23988                             Fox In The Forest Duet   \n",
       "23989  Hasbro Gaming Hot Tub High Dive Game With Bubb...   \n",
       "23990                     Shimmer & Shine Toddler Helmet   \n",
       "23991  MasterPieces NCAA North Carolina Tar Heels, Co...   \n",
       "23992  Edupress Cause & Effect Game, Red Level (EP606...   \n",
       "\n",
       "                                                Category  \\\n",
       "0      Toys & Games | Arts & Crafts | Craft Kits | Pa...   \n",
       "1       Toys & Games | Games & Accessories | Board Games   \n",
       "2      Toys & Games | Hobbies | Remote & App Controll...   \n",
       "3            Toys & Games | Play Vehicles | Toy Vehicles   \n",
       "4      Toys & Games | Puzzles | Brain Teasers | Assem...   \n",
       "...                                                  ...   \n",
       "23988   Toys & Games | Games & Accessories | Board Games   \n",
       "23989   Toys & Games | Games & Accessories | Board Games   \n",
       "23990  Sports & Outdoors | Outdoor Recreation | Cycli...   \n",
       "23991            Toys & Games | Puzzles | Jigsaw Puzzles   \n",
       "23992   Toys & Games | Games & Accessories | Board Games   \n",
       "\n",
       "                                             Description Selling Price  \\\n",
       "0      PERFECT GIFT FOR AGES 8 AND ABOVE: Make this f...        $14.47   \n",
       "1      3 jumbo connect-the-dots coloring pads ABC far...        $12.74   \n",
       "2                                       Great Condition.         $9.06   \n",
       "3                 Disney/Pixar Cars 3 new Crazy 8 track.        $27.85   \n",
       "4                                       Great Condition.        $28.92   \n",
       "...                                                  ...           ...   \n",
       "23988                     Beautifully illustrated cards.        $15.00   \n",
       "23989  The Hot Tub High Dive board game includes a de...         $7.49   \n",
       "23990  Glittery pink shimmer and shine design is sure...        $19.93   \n",
       "23991  Includes 28 resin dominoes with printed team l...        $19.99   \n",
       "23992                                   Great Condition.        $17.79   \n",
       "\n",
       "                                   Product Specification  \\\n",
       "0      ProductDimensions:3x10x15inches|ItemWeight:15....   \n",
       "1      ProductDimensions:11x0.8x14inches|ItemWeight:3...   \n",
       "2      ProductDimensions:5.9x4x0.4inches|ItemWeight:0...   \n",
       "3      ProductDimensions:2.9x14x10inches|ItemWeight:1...   \n",
       "4                                                   None   \n",
       "...                                                  ...   \n",
       "23988  ProductDimensions:6.5x4.5x1.2inches|ItemWeight...   \n",
       "23989  ProductDimensions:3.2x10.5x10.5inches|ItemWeig...   \n",
       "23990  Shipping Weight: 8.8 ounces (View shipping rat...   \n",
       "23991  Product Dimensions:         2 x 4.5 x 7.5 inch...   \n",
       "23992  ASIN:B0007KK12A|ShippingWeight:1.2pounds(Views...   \n",
       "\n",
       "                                                   Image  \n",
       "0      https://images-na.ssl-images-amazon.com/images...  \n",
       "1      https://images-na.ssl-images-amazon.com/images...  \n",
       "2      https://images-na.ssl-images-amazon.com/images...  \n",
       "3      https://images-na.ssl-images-amazon.com/images...  \n",
       "4      https://images-na.ssl-images-amazon.com/images...  \n",
       "...                                                  ...  \n",
       "23988  https://images-na.ssl-images-amazon.com/images...  \n",
       "23989  https://images-na.ssl-images-amazon.com/images...  \n",
       "23990  https://images-na.ssl-images-amazon.com/images...  \n",
       "23991  https://images-na.ssl-images-amazon.com/images...  \n",
       "23992  https://images-na.ssl-images-amazon.com/images...  \n",
       "\n",
       "[23993 rows x 6 columns]"
      ]
     },
     "execution_count": 3,
     "metadata": {},
     "output_type": "execute_result"
    }
   ],
   "source": [
    "amazon_df"
   ]
  },
  {
   "cell_type": "code",
   "execution_count": 4,
   "id": "c40fb969-7d2a-49fc-9a9e-e0cf6c0eae5b",
   "metadata": {},
   "outputs": [],
   "source": [
    "def generate_customer_data(num_people, max_purchases_per_person):\n",
    "    # Load the Amazon dataset (assuming it's already downloaded and available)\n",
    "    amazon_data = load_dataset('ckandemir/amazon-products', split='train')\n",
    "\n",
    "    # Create lists for the people dataset\n",
    "    people_data = []\n",
    "    unique_id_counter = 0\n",
    "\n",
    "    # Define possible values for demographics\n",
    "    sexes = ['Male', 'Female']\n",
    "    \n",
    "    locations = [\n",
    "    \"Alabama\", \"Alaska\", \"Arizona\", \"Arkansas\", \"California\", \"Colorado\",\n",
    "    \"Connecticut\", \"Delaware\", \"Florida\", \"Georgia\", \"Hawaii\", \"Idaho\",\n",
    "    \"Illinois\", \"Indiana\", \"Iowa\", \"Kansas\", \"Kentucky\", \"Louisiana\",\n",
    "    \"Maine\", \"Maryland\", \"Massachusetts\", \"Michigan\", \"Minnesota\",\n",
    "    \"Mississippi\", \"Missouri\", \"Montana\", \"Nebraska\", \"Nevada\",\n",
    "    \"New Hampshire\", \"New Jersey\", \"New Mexico\", \"New York\", \"North Carolina\",\n",
    "    \"North Dakota\", \"Ohio\", \"Oklahoma\", \"Oregon\", \"Pennsylvania\",\n",
    "    \"Rhode Island\", \"South Carolina\", \"South Dakota\", \"Tennessee\", \"Texas\",\n",
    "    \"Utah\", \"Vermont\", \"Virginia\", \"Washington\", \"West Virginia\", \"Wisconsin\", \"Wyoming\"\n",
    "]\n",
    "\n",
    "    # Generate data for each person\n",
    "    for _ in range(num_people):\n",
    "        num_purchases = random.randint(1, max_purchases_per_person)\n",
    "        age = random.randint(18, 70)\n",
    "        sex = random.choice(sexes)\n",
    "        location = random.choice(locations)\n",
    "\n",
    "        for _ in range(num_purchases):\n",
    "            # Randomly choose a product from the Amazon dataset\n",
    "            product = amazon_data[random.randint(0, len(amazon_data)-1)]\n",
    "            product_name = product['Product Name']\n",
    "            purchase_price = product['Selling Price']\n",
    "\n",
    "            # Append each purchase as a new record in the dataset\n",
    "            people_data.append({\n",
    "                'Unique ID': unique_id_counter,\n",
    "                'Age': age,\n",
    "                'Sex': sex,\n",
    "                'Location': location,\n",
    "                'Previous Purchase': product_name,\n",
    "                'Purchase Price': purchase_price\n",
    "            })\n",
    "        \n",
    "        # Increment unique ID for each new person\n",
    "        unique_id_counter += 1\n",
    "\n",
    "    # Convert list of dicts to DataFrame\n",
    "    return pd.DataFrame(people_data)"
   ]
  },
  {
   "cell_type": "code",
   "execution_count": 5,
   "id": "5904d3de-50dc-4f23-8018-68f1a58fe626",
   "metadata": {},
   "outputs": [],
   "source": [
    "df_synthetic = generate_customer_data(10000, 50)\n"
   ]
  },
  {
   "cell_type": "code",
   "execution_count": 6,
   "id": "2c8f3da8-d5a2-4304-a265-38e36b0ea112",
   "metadata": {},
   "outputs": [
    {
     "data": {
      "text/html": [
       "<div>\n",
       "<style scoped>\n",
       "    .dataframe tbody tr th:only-of-type {\n",
       "        vertical-align: middle;\n",
       "    }\n",
       "\n",
       "    .dataframe tbody tr th {\n",
       "        vertical-align: top;\n",
       "    }\n",
       "\n",
       "    .dataframe thead th {\n",
       "        text-align: right;\n",
       "    }\n",
       "</style>\n",
       "<table border=\"1\" class=\"dataframe\">\n",
       "  <thead>\n",
       "    <tr style=\"text-align: right;\">\n",
       "      <th></th>\n",
       "      <th>Unique ID</th>\n",
       "      <th>Age</th>\n",
       "      <th>Sex</th>\n",
       "      <th>Location</th>\n",
       "      <th>Previous Purchase</th>\n",
       "      <th>Purchase Price</th>\n",
       "    </tr>\n",
       "  </thead>\n",
       "  <tbody>\n",
       "    <tr>\n",
       "      <th>257318</th>\n",
       "      <td>9999</td>\n",
       "      <td>67</td>\n",
       "      <td>Female</td>\n",
       "      <td>Alaska</td>\n",
       "      <td>LEGO Disney Ariel’s Seaside Castle 41160 4+ Bu...</td>\n",
       "      <td>$19.78 $ 19 . 78</td>\n",
       "    </tr>\n",
       "    <tr>\n",
       "      <th>257319</th>\n",
       "      <td>9999</td>\n",
       "      <td>67</td>\n",
       "      <td>Female</td>\n",
       "      <td>Alaska</td>\n",
       "      <td>Crayola Glitter Glue Bulk, 20 Count Classpack,...</td>\n",
       "      <td>$12.35</td>\n",
       "    </tr>\n",
       "    <tr>\n",
       "      <th>257320</th>\n",
       "      <td>9999</td>\n",
       "      <td>67</td>\n",
       "      <td>Female</td>\n",
       "      <td>Alaska</td>\n",
       "      <td>Richard Mcguire's Go Fish Card Game for Kids (...</td>\n",
       "      <td>$9.99</td>\n",
       "    </tr>\n",
       "    <tr>\n",
       "      <th>257321</th>\n",
       "      <td>9999</td>\n",
       "      <td>67</td>\n",
       "      <td>Female</td>\n",
       "      <td>Alaska</td>\n",
       "      <td>Learning Resources Giant Magnetic Array Set</td>\n",
       "      <td>$17.26</td>\n",
       "    </tr>\n",
       "    <tr>\n",
       "      <th>257322</th>\n",
       "      <td>9999</td>\n",
       "      <td>67</td>\n",
       "      <td>Female</td>\n",
       "      <td>Alaska</td>\n",
       "      <td>My Little Pony Girls' Rainbow Dash Hoodie</td>\n",
       "      <td>$11.99</td>\n",
       "    </tr>\n",
       "  </tbody>\n",
       "</table>\n",
       "</div>"
      ],
      "text/plain": [
       "        Unique ID  Age     Sex Location  \\\n",
       "257318       9999   67  Female   Alaska   \n",
       "257319       9999   67  Female   Alaska   \n",
       "257320       9999   67  Female   Alaska   \n",
       "257321       9999   67  Female   Alaska   \n",
       "257322       9999   67  Female   Alaska   \n",
       "\n",
       "                                        Previous Purchase    Purchase Price  \n",
       "257318  LEGO Disney Ariel’s Seaside Castle 41160 4+ Bu...  $19.78 $ 19 . 78  \n",
       "257319  Crayola Glitter Glue Bulk, 20 Count Classpack,...            $12.35  \n",
       "257320  Richard Mcguire's Go Fish Card Game for Kids (...             $9.99  \n",
       "257321        Learning Resources Giant Magnetic Array Set            $17.26  \n",
       "257322          My Little Pony Girls' Rainbow Dash Hoodie            $11.99  "
      ]
     },
     "execution_count": 6,
     "metadata": {},
     "output_type": "execute_result"
    }
   ],
   "source": [
    "df_synthetic.tail()"
   ]
  },
  {
   "cell_type": "code",
   "execution_count": 7,
   "id": "ef7606ae-9ebe-4499-9983-c8b9f04c3c2e",
   "metadata": {},
   "outputs": [
    {
     "data": {
      "text/plain": [
       "Index(['Unique ID', 'Age', 'Sex', 'Location', 'Previous Purchase',\n",
       "       'Purchase Price'],\n",
       "      dtype='object')"
      ]
     },
     "execution_count": 7,
     "metadata": {},
     "output_type": "execute_result"
    }
   ],
   "source": [
    "df_synthetic.columns"
   ]
  },
  {
   "cell_type": "code",
   "execution_count": null,
   "id": "d57ebd5d-d70b-4620-8c94-ffac07ad0bbb",
   "metadata": {},
   "outputs": [],
   "source": []
  },
  {
   "cell_type": "code",
   "execution_count": 8,
   "id": "2ad24b27-06cc-4b4e-a82f-47807b945ddd",
   "metadata": {},
   "outputs": [],
   "source": [
    "# Merge on product names to bring in product categories and other details\n",
    "df_combined = pd.merge(df_synthetic, amazon_df, left_on='Previous Purchase', right_on='Product Name')\n"
   ]
  },
  {
   "cell_type": "code",
   "execution_count": 9,
   "id": "556b1a06-1312-4b8d-b287-f6a868b97eea",
   "metadata": {},
   "outputs": [],
   "source": [
    "# Replace non-numeric characters and clean up spaces around numbers\n",
    "df_combined['Selling Price'] = df_combined['Selling Price'].replace('[^\\d\\.]', '', regex=True).str.strip()\n",
    "\n",
    "# Now attempt to convert the cleaned strings to float\n",
    "df_combined['Selling Price'] = pd.to_numeric(df_combined['Selling Price'], errors='coerce')"
   ]
  },
  {
   "cell_type": "code",
   "execution_count": 10,
   "id": "ee6760ad-1076-40b2-8e7b-6cc0355639fd",
   "metadata": {},
   "outputs": [],
   "source": [
    "# Create an instance of OneHotEncoder\n",
    "encoder = OneHotEncoder(sparse=False)"
   ]
  },
  {
   "cell_type": "code",
   "execution_count": 11,
   "id": "737db1d1-3bc3-4c4c-bedc-d5087ac22f8d",
   "metadata": {},
   "outputs": [
    {
     "name": "stderr",
     "output_type": "stream",
     "text": [
      "/home/yewi/anaconda3/envs/dev-ai/lib/python3.10/site-packages/sklearn/preprocessing/_encoders.py:972: FutureWarning: `sparse` was renamed to `sparse_output` in version 1.2 and will be removed in 1.4. `sparse_output` is ignored unless you leave `sparse` to its default value.\n",
      "  warnings.warn(\n"
     ]
    }
   ],
   "source": [
    "# Select categorical columns to encode\n",
    "categorical_columns = ['Sex', 'Location', 'Category']\n",
    "categorical_features = encoder.fit_transform(df_combined[categorical_columns])\n"
   ]
  },
  {
   "cell_type": "code",
   "execution_count": 12,
   "id": "351bf051-0573-41d5-94d0-dbcdbc5e6f9e",
   "metadata": {},
   "outputs": [],
   "source": [
    "# Use get_feature_names_out to get new feature names\n",
    "encoded_columns = encoder.get_feature_names_out(categorical_columns)\n",
    "encoded_df = pd.DataFrame(categorical_features, columns=encoded_columns)\n"
   ]
  },
  {
   "cell_type": "code",
   "execution_count": 13,
   "id": "d0c5c686-7257-46e5-a774-4070e19dcbe5",
   "metadata": {},
   "outputs": [],
   "source": [
    "# Normalize continuous variables\n",
    "scaler = MinMaxScaler()\n",
    "continuous_columns = ['Age', 'Selling Price']\n",
    "continuous_features = scaler.fit_transform(df_combined[continuous_columns])\n",
    "continuous_df = pd.DataFrame(continuous_features, columns=continuous_columns)\n"
   ]
  },
  {
   "cell_type": "code",
   "execution_count": 14,
   "id": "92737a95-703c-4171-b060-ab90bed93ded",
   "metadata": {},
   "outputs": [],
   "source": [
    "# Combine all processed features into one DataFrame\n",
    "processed_features = pd.concat([encoded_df, continuous_df], axis=1)\n"
   ]
  },
  {
   "cell_type": "code",
   "execution_count": 15,
   "id": "5e181bd7-5f30-4943-a101-19385273367f",
   "metadata": {},
   "outputs": [],
   "source": [
    "# Prepare labels for model training if you are recommending products\n",
    "labels = pd.get_dummies(df_combined['Product Name'])"
   ]
  },
  {
   "cell_type": "code",
   "execution_count": null,
   "id": "e4e9595a-dec3-4802-a74c-27933314eba8",
   "metadata": {},
   "outputs": [],
   "source": [
    "# Split data for training\n",
    "from sklearn.model_selection import train_test_split\n",
    "X_train, X_test, y_train, y_test = train_test_split(processed_features, labels, test_size=0.2, random_state=42)\n"
   ]
  },
  {
   "cell_type": "code",
   "execution_count": 1,
   "id": "1fa6a030-cf06-4cae-b52f-313122604801",
   "metadata": {},
   "outputs": [
    {
     "ename": "NameError",
     "evalue": "name 'tf' is not defined",
     "output_type": "error",
     "traceback": [
      "\u001b[0;31m---------------------------------------------------------------------------\u001b[0m",
      "\u001b[0;31mNameError\u001b[0m                                 Traceback (most recent call last)",
      "Cell \u001b[0;32mIn[1], line 2\u001b[0m\n\u001b[1;32m      1\u001b[0m \u001b[38;5;66;03m# Define the neural network model\u001b[39;00m\n\u001b[0;32m----> 2\u001b[0m model \u001b[38;5;241m=\u001b[39m \u001b[43mtf\u001b[49m\u001b[38;5;241m.\u001b[39mkeras\u001b[38;5;241m.\u001b[39mmodels\u001b[38;5;241m.\u001b[39mSequential([\n\u001b[1;32m      3\u001b[0m     tf\u001b[38;5;241m.\u001b[39mkeras\u001b[38;5;241m.\u001b[39mlayers\u001b[38;5;241m.\u001b[39mDense(\u001b[38;5;241m128\u001b[39m, activation\u001b[38;5;241m=\u001b[39m\u001b[38;5;124m'\u001b[39m\u001b[38;5;124mrelu\u001b[39m\u001b[38;5;124m'\u001b[39m, input_dim\u001b[38;5;241m=\u001b[39mprocessed_features\u001b[38;5;241m.\u001b[39mshape[\u001b[38;5;241m1\u001b[39m]),\n\u001b[1;32m      4\u001b[0m     tf\u001b[38;5;241m.\u001b[39mkeras\u001b[38;5;241m.\u001b[39mlayers\u001b[38;5;241m.\u001b[39mDense(\u001b[38;5;241m64\u001b[39m, activation\u001b[38;5;241m=\u001b[39m\u001b[38;5;124m'\u001b[39m\u001b[38;5;124mrelu\u001b[39m\u001b[38;5;124m'\u001b[39m),\n\u001b[1;32m      5\u001b[0m     tf\u001b[38;5;241m.\u001b[39mkeras\u001b[38;5;241m.\u001b[39mlayers\u001b[38;5;241m.\u001b[39mDense(labels\u001b[38;5;241m.\u001b[39mshape[\u001b[38;5;241m1\u001b[39m], activation\u001b[38;5;241m=\u001b[39m\u001b[38;5;124m'\u001b[39m\u001b[38;5;124msoftmax\u001b[39m\u001b[38;5;124m'\u001b[39m)\n\u001b[1;32m      6\u001b[0m ])\n",
      "\u001b[0;31mNameError\u001b[0m: name 'tf' is not defined"
     ]
    }
   ],
   "source": [
    "# Define the neural network model\n",
    "model = tf.keras.models.Sequential([\n",
    "    tf.keras.layers.Dense(128, activation='relu', input_dim=processed_features.shape[1]),\n",
    "    tf.keras.layers.Dense(64, activation='relu'),\n",
    "    tf.keras.layers.Dense(labels.shape[1], activation='softmax')\n",
    "])"
   ]
  },
  {
   "cell_type": "code",
   "execution_count": null,
   "id": "a3cceeb2-5a49-4790-80b7-d451f4802118",
   "metadata": {},
   "outputs": [],
   "source": [
    "# Compile the model\n",
    "model.compile(optimizer='adam', loss='categorical_crossentropy', metrics=['accuracy'])\n"
   ]
  },
  {
   "cell_type": "code",
   "execution_count": null,
   "id": "0f3a3d34-a7e7-4b0a-8eab-f985b54f13aa",
   "metadata": {},
   "outputs": [],
   "source": [
    "# Train the model\n",
    "model.fit(X_train, y_train, epochs=10, validation_data=(X_test, y_test))"
   ]
  },
  {
   "cell_type": "code",
   "execution_count": null,
   "id": "95f6f48b",
   "metadata": {},
   "outputs": [],
   "source": [
    "model.save('recommendation_model.h5')\n"
   ]
  }
 ],
 "metadata": {
  "kernelspec": {
   "display_name": "Python 3 (ipykernel)",
   "language": "python",
   "name": "python3"
  },
  "language_info": {
   "codemirror_mode": {
    "name": "ipython",
    "version": 3
   },
   "file_extension": ".py",
   "mimetype": "text/x-python",
   "name": "python",
   "nbconvert_exporter": "python",
   "pygments_lexer": "ipython3",
   "version": "3.10.13"
  }
 },
 "nbformat": 4,
 "nbformat_minor": 5
}
